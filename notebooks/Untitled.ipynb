{
 "cells": [
  {
   "cell_type": "code",
   "execution_count": 1,
   "id": "4b89dce7-6d38-42c2-9724-f7de7d792663",
   "metadata": {},
   "outputs": [],
   "source": [
    "import torch\n",
    "import torch_geometric as pyg\n",
    "import collections\n",
    "from lib.graphs.scores import iterative_mean_spectral_gap as imsg\n",
    "from typing import *"
   ]
  },
  {
   "cell_type": "code",
   "execution_count": 8,
   "id": "c0d784bd-4da5-4a4a-92dd-2904c6973a33",
   "metadata": {},
   "outputs": [],
   "source": [
    "graph = torch.load(\"results/density_0.1/cifar10/resnet34/SNIP/2/latest/graph.pth\")"
   ]
  },
  {
   "cell_type": "code",
   "execution_count": 9,
   "id": "b00da4bb-ef1e-460c-a8e1-79fe8fe86e5d",
   "metadata": {},
   "outputs": [
    {
     "name": "stdout",
     "output_type": "stream",
     "text": [
      "dict_keys(['conv1', 'layer1.0.conv1', 'layer1.0.conv2', 'layer1.1.conv1', 'layer1.1.conv2', 'layer1.2.conv1', 'layer1.2.conv2', 'layer2.0.conv1', 'layer2.0.conv2', 'layer2.0.downsample.0', 'layer2.1.conv1', 'layer2.1.conv2', 'layer2.2.conv1', 'layer2.2.conv2', 'layer2.3.conv1', 'layer2.3.conv2', 'layer3.0.conv1', 'layer3.0.conv2', 'layer3.0.downsample.0', 'layer3.1.conv1', 'layer3.1.conv2', 'layer3.2.conv1', 'layer3.2.conv2', 'layer3.3.conv1', 'layer3.3.conv2', 'layer3.4.conv1', 'layer3.4.conv2', 'layer3.5.conv1', 'layer3.5.conv2', 'layer4.0.conv1', 'layer4.0.conv2', 'layer4.0.downsample.0', 'layer4.1.conv1', 'layer4.1.conv2', 'layer4.2.conv1', 'layer4.2.conv2', 'fc'])\n"
     ]
    }
   ],
   "source": [
    "print(graph.keys())"
   ]
  },
  {
   "cell_type": "code",
   "execution_count": 16,
   "id": "1121c520-2f81-41ad-a7eb-ce93bc31c519",
   "metadata": {
    "tags": []
   },
   "outputs": [
    {
     "name": "stdout",
     "output_type": "stream",
     "text": [
      "conv1 (tensor(0.2794, dtype=torch.float64), tensor(0.3149, dtype=torch.float64))\n",
      "layer1.0.conv1 (tensor(0.2600, dtype=torch.float64), tensor(0.2552, dtype=torch.float64))\n",
      "layer1.0.conv2 (tensor(0.2886, dtype=torch.float64), tensor(0.2858, dtype=torch.float64))\n",
      "layer1.1.conv1 (tensor(0.3010, dtype=torch.float64), tensor(0.2923, dtype=torch.float64))\n",
      "layer1.1.conv2 (tensor(0.2750, dtype=torch.float64), tensor(0.2721, dtype=torch.float64))\n",
      "layer1.2.conv1 (tensor(0.2960, dtype=torch.float64), tensor(0.2903, dtype=torch.float64))\n",
      "layer1.2.conv2 (tensor(0.2990, dtype=torch.float64), tensor(0.2964, dtype=torch.float64))\n",
      "layer2.0.conv1 (tensor(0.2521, dtype=torch.float64), tensor(0.2660, dtype=torch.float64))\n",
      "layer2.0.conv2 (tensor(0.2459, dtype=torch.float64), tensor(0.2422, dtype=torch.float64))\n",
      "layer2.0.downsample.0 (tensor(0.1737, dtype=torch.float64), tensor(0.3369, dtype=torch.float64))\n",
      "layer2.1.conv1 (tensor(0.2070, dtype=torch.float64), tensor(0.2055, dtype=torch.float64))\n",
      "layer2.1.conv2 (tensor(0.2328, dtype=torch.float64), tensor(0.2492, dtype=torch.float64))\n",
      "layer2.2.conv1 (tensor(0.2441, dtype=torch.float64), tensor(0.2334, dtype=torch.float64))\n",
      "layer2.2.conv2 (tensor(0.2431, dtype=torch.float64), tensor(0.2603, dtype=torch.float64))\n",
      "layer2.3.conv1 (tensor(0.2626, dtype=torch.float64), tensor(0.2543, dtype=torch.float64))\n",
      "layer2.3.conv2 (tensor(0.2417, dtype=torch.float64), tensor(0.2692, dtype=torch.float64))\n",
      "layer3.0.conv1 (tensor(0.1843, dtype=torch.float64), tensor(0.2403, dtype=torch.float64))\n",
      "layer3.0.conv2 (-1, -1)\n",
      "layer3.0.downsample.0 (tensor(0.0461, dtype=torch.float64), tensor(0.2621, dtype=torch.float64))\n",
      "layer3.1.conv1 (tensor(0.0217, dtype=torch.float64), tensor(0.0883, dtype=torch.float64))\n",
      "layer3.1.conv2 (tensor(0.0481, dtype=torch.float64), tensor(0.1286, dtype=torch.float64))\n",
      "layer3.2.conv1 (tensor(0.0584, dtype=torch.float64), tensor(0.1214, dtype=torch.float64))\n",
      "layer3.2.conv2 (tensor(0.0378, dtype=torch.float64), tensor(0.1228, dtype=torch.float64))\n",
      "layer3.3.conv1 (tensor(-0.0352, dtype=torch.float64), tensor(0.0016, dtype=torch.float64))\n",
      "layer3.3.conv2 (tensor(0.0440, dtype=torch.float64), tensor(0.1293, dtype=torch.float64))\n",
      "layer3.4.conv1 (tensor(0.0540, dtype=torch.float64), tensor(0.0995, dtype=torch.float64))\n",
      "layer3.4.conv2 (tensor(0.0232, dtype=torch.float64), tensor(0.1404, dtype=torch.float64))\n",
      "layer3.5.conv1 (tensor(-0.0374, dtype=torch.float64), tensor(0.0008, dtype=torch.float64))\n",
      "layer3.5.conv2 (tensor(0.0484, dtype=torch.float64), tensor(0.1349, dtype=torch.float64))\n",
      "layer4.0.conv1 (-1, -1)\n",
      "layer4.0.conv2 (tensor(-0.0288, dtype=torch.float64), tensor(0.2174, dtype=torch.float64))\n",
      "layer4.0.downsample.0 (tensor(-0.0518, dtype=torch.float64), tensor(0.2654, dtype=torch.float64))\n",
      "layer4.1.conv1 (-1, -1)\n",
      "layer4.1.conv2 (-1, -1)\n",
      "layer4.2.conv1 (-1, -1)\n",
      "layer4.2.conv2 (-1, -1)\n",
      "fc (tensor(0.1228, dtype=torch.float64), tensor(0.2587, dtype=torch.float64))\n"
     ]
    }
   ],
   "source": [
    "for k, v in graph.items():\n",
    "    print(k, imsg(v))"
   ]
  },
  {
   "cell_type": "code",
   "execution_count": 60,
   "id": "33e53971-aca9-41fb-9222-5c8362a2fb51",
   "metadata": {},
   "outputs": [],
   "source": [
    "from typing import List, Optional, Tuple, Union\n",
    "from torch_geometric.typing import PairTensor\n",
    "from torch_geometric.utils.mask import index_to_mask\n",
    "from torch_geometric.utils.num_nodes import maybe_num_nodes\n",
    "from torch import Tensor\n",
    "\n",
    "def get_subgraph(\n",
    "    subset: Union[Tensor, List[int]],\n",
    "    edge_index: Tensor,\n",
    "    edge_attr: Optional[Tensor] = None,\n",
    "    relabel_nodes: bool = False,\n",
    "    num_nodes: Optional[int] = None,\n",
    "    return_edge_mask: bool = False,\n",
    ") -> Tuple[Tensor, Tensor]:\n",
    "    r\"\"\"Returns the induced subgraph of :obj:`(edge_index, edge_attr)`\n",
    "    containing the nodes in :obj:`subset`.\n",
    "\n",
    "    Args:\n",
    "        subset (LongTensor, BoolTensor or [int]): The nodes to keep.\n",
    "        edge_index (LongTensor): The edge indices.\n",
    "        edge_attr (Tensor, optional): Edge weights or multi-dimensional\n",
    "            edge features. (default: :obj:`None`)\n",
    "        relabel_nodes (bool, optional): If set to :obj:`True`, the resulting\n",
    "            :obj:`edge_index` will be relabeled to hold consecutive indices\n",
    "            starting from zero. (default: :obj:`False`)\n",
    "        num_nodes (int, optional): The number of nodes, *i.e.*\n",
    "            :obj:`max_val + 1` of :attr:`edge_index`. (default: :obj:`None`)\n",
    "        return_edge_mask (bool, optional): If set to :obj:`True`, will return\n",
    "            the edge mask to filter out additional edge features.\n",
    "            (default: :obj:`False`)\n",
    "\n",
    "    :rtype: (:class:`LongTensor`, :class:`Tensor`)\n",
    "\n",
    "    Examples:\n",
    "\n",
    "        >>> edge_index = torch.tensor([[0, 1, 1, 2, 2, 3, 3, 4, 4, 5, 5, 6],\n",
    "        ...                            [1, 0, 2, 1, 3, 2, 4, 3, 5, 4, 6, 5]])\n",
    "        >>> edge_attr = torch.tensor([1, 2, 3, 4, 5, 6, 7, 8, 9, 10, 11, 12])\n",
    "        >>> subset = torch.tensor([3, 4, 5])\n",
    "        >>> subgraph(subset, edge_index, edge_attr)\n",
    "        (tensor([[3, 4, 4, 5],\n",
    "                [4, 3, 5, 4]]),\n",
    "        tensor([ 7.,  8.,  9., 10.]))\n",
    "\n",
    "        >>> subgraph(subset, edge_index, edge_attr, return_edge_mask=True)\n",
    "        (tensor([[3, 4, 4, 5],\n",
    "                [4, 3, 5, 4]]),\n",
    "        tensor([ 7.,  8.,  9., 10.]),\n",
    "        tensor([False, False, False, False, False, False,  True,\n",
    "                True,  True,  True,  False, False]))\n",
    "    \"\"\"\n",
    "\n",
    "    device = edge_index.device\n",
    "\n",
    "    if isinstance(subset, (list, tuple)):\n",
    "        subset = torch.tensor(subset, dtype=torch.long, device=device)\n",
    "    print(subset.dtype)\n",
    "    if subset.dtype == torch.bool or subset.dtype == torch.uint8:\n",
    "        num_nodes = subset.size(0)\n",
    "    else:\n",
    "        num_nodes = maybe_num_nodes(edge_index, num_nodes)\n",
    "        print(num_nodes)\n",
    "        subset = index_to_mask(subset, size=num_nodes)\n",
    "\n",
    "    print(subset)\n",
    "    node_mask = subset\n",
    "    edge_mask = node_mask[edge_index[0]] & node_mask[edge_index[1]]\n",
    "    edge_index = edge_index[:, edge_mask]\n",
    "    edge_attr = edge_attr[edge_mask] if edge_attr is not None else None\n",
    "\n",
    "    if relabel_nodes:\n",
    "        node_idx = torch.zeros(node_mask.size(0), dtype=torch.long,\n",
    "                               device=device)\n",
    "        node_idx[subset] = torch.arange(subset.sum().item(), device=device)\n",
    "        edge_index = node_idx[edge_index]\n",
    "\n",
    "    if return_edge_mask:\n",
    "        return edge_index, edge_attr, edge_mask\n",
    "    else:\n",
    "        return edge_index, edge_att"
   ]
  },
  {
   "cell_type": "code",
   "execution_count": 69,
   "id": "1d38d060-3e72-4e7b-93cc-7c9fd3e6aa71",
   "metadata": {},
   "outputs": [],
   "source": [
    "def find_d_left_regular(layer: dict, mindegree: int = 3):\n",
    "    \"\"\"return a subgraph of graph which contains at minimum d in/out degree\n",
    "\n",
    "    :returns: TODO\n",
    "\n",
    "    \"\"\"\n",
    "    graph = layer['graph']\n",
    "    degree = pyg.utils.degree(graph.edge_index[0], graph.num_nodes)\n",
    "    d_l = degree[0:layer['dim_in']]\n",
    "    d_r = degree[layer['dim_in']::]\n",
    "    degrees = collections.Counter(d_l.tolist())\n",
    "    for degree, count in degrees.items():\n",
    "        if count < mindegree or degree == 0.0: continue\n",
    "        node_mask = d_l == degree\n",
    "        non_zero_idx = torch.nonzero(node_mask).squeeze()\n",
    "        right_nodes = torch.arange(d_r.size(0)) + layer['dim_in']\n",
    "        node_to_keep = torch.cat([non_zero_idx, right_nodes])\n",
    "        # d-left regular bipartie graph\n",
    "        subgraph = pyg.utils.subgraph(node_to_keep,\n",
    "                                      graph.edge_index,\n",
    "                                      graph.edge_attr,\n",
    "                                      relabel_nodes=True,\n",
    "                                      num_nodes = graph.num_nodes\n",
    "                                     )\n",
    "        ret = {\n",
    "            'dim_in':\n",
    "            count,\n",
    "            'graph':\n",
    "            pyg.data.Data(\n",
    "                edge_index=subgraph[0],\n",
    "                edge_attr=subgraph[1],\n",
    "                num_nodes=node_to_keep.size(0),\n",
    "            ),\n",
    "        }\n",
    "        yield ret\n"
   ]
  },
  {
   "cell_type": "code",
   "execution_count": 70,
   "id": "5c82013a-60b2-43b5-a798-c38e8ff4d71a",
   "metadata": {},
   "outputs": [
    {
     "name": "stdout",
     "output_type": "stream",
     "text": [
      "{'dim_in': 5, 'graph': Data(edge_index=[2, 2170], edge_attr=[2170, 1], num_nodes=517)}\n",
      "{'dim_in': 4, 'graph': Data(edge_index=[2, 1584], edge_attr=[1584, 1], num_nodes=516)}\n",
      "{'dim_in': 3, 'graph': Data(edge_index=[2, 1248], edge_attr=[1248, 1], num_nodes=515)}\n",
      "{'dim_in': 5, 'graph': Data(edge_index=[2, 1650], edge_attr=[1650, 1], num_nodes=517)}\n",
      "{'dim_in': 4, 'graph': Data(edge_index=[2, 1376], edge_attr=[1376, 1], num_nodes=516)}\n",
      "{'dim_in': 4, 'graph': Data(edge_index=[2, 1296], edge_attr=[1296, 1], num_nodes=516)}\n",
      "{'dim_in': 3, 'graph': Data(edge_index=[2, 1206], edge_attr=[1206, 1], num_nodes=515)}\n",
      "{'dim_in': 4, 'graph': Data(edge_index=[2, 1032], edge_attr=[1032, 1], num_nodes=516)}\n",
      "{'dim_in': 5, 'graph': Data(edge_index=[2, 1270], edge_attr=[1270, 1], num_nodes=517)}\n",
      "{'dim_in': 5, 'graph': Data(edge_index=[2, 1280], edge_attr=[1280, 1], num_nodes=517)}\n",
      "{'dim_in': 5, 'graph': Data(edge_index=[2, 250], edge_attr=[250, 1], num_nodes=517)}\n",
      "{'dim_in': 3, 'graph': Data(edge_index=[2, 1146], edge_attr=[1146, 1], num_nodes=515)}\n",
      "{'dim_in': 3, 'graph': Data(edge_index=[2, 906], edge_attr=[906, 1], num_nodes=515)}\n",
      "{'dim_in': 4, 'graph': Data(edge_index=[2, 1120], edge_attr=[1120, 1], num_nodes=516)}\n",
      "{'dim_in': 4, 'graph': Data(edge_index=[2, 1336], edge_attr=[1336, 1], num_nodes=516)}\n",
      "{'dim_in': 4, 'graph': Data(edge_index=[2, 1728], edge_attr=[1728, 1], num_nodes=516)}\n",
      "{'dim_in': 3, 'graph': Data(edge_index=[2, 1170], edge_attr=[1170, 1], num_nodes=515)}\n",
      "{'dim_in': 4, 'graph': Data(edge_index=[2, 1768], edge_attr=[1768, 1], num_nodes=516)}\n",
      "{'dim_in': 3, 'graph': Data(edge_index=[2, 72], edge_attr=[72, 1], num_nodes=515)}\n",
      "{'dim_in': 3, 'graph': Data(edge_index=[2, 588], edge_attr=[588, 1], num_nodes=515)}\n",
      "{'dim_in': 4, 'graph': Data(edge_index=[2, 1544], edge_attr=[1544, 1], num_nodes=516)}\n",
      "{'dim_in': 5, 'graph': Data(edge_index=[2, 1310], edge_attr=[1310, 1], num_nodes=517)}\n",
      "{'dim_in': 3, 'graph': Data(edge_index=[2, 606], edge_attr=[606, 1], num_nodes=515)}\n",
      "{'dim_in': 3, 'graph': Data(edge_index=[2, 1308], edge_attr=[1308, 1], num_nodes=515)}\n",
      "{'dim_in': 3, 'graph': Data(edge_index=[2, 54], edge_attr=[54, 1], num_nodes=515)}\n",
      "{'dim_in': 3, 'graph': Data(edge_index=[2, 546], edge_attr=[546, 1], num_nodes=515)}\n",
      "{'dim_in': 4, 'graph': Data(edge_index=[2, 32], edge_attr=[32, 1], num_nodes=516)}\n",
      "{'dim_in': 6, 'graph': Data(edge_index=[2, 24], edge_attr=[24, 1], num_nodes=518)}\n",
      "{'dim_in': 3, 'graph': Data(edge_index=[2, 732], edge_attr=[732, 1], num_nodes=515)}\n",
      "{'dim_in': 3, 'graph': Data(edge_index=[2, 18], edge_attr=[18, 1], num_nodes=515)}\n",
      "{'dim_in': 3, 'graph': Data(edge_index=[2, 744], edge_attr=[744, 1], num_nodes=515)}\n",
      "{'dim_in': 3, 'graph': Data(edge_index=[2, 192], edge_attr=[192, 1], num_nodes=515)}\n",
      "{'dim_in': 3, 'graph': Data(edge_index=[2, 1314], edge_attr=[1314, 1], num_nodes=515)}\n",
      "{'dim_in': 3, 'graph': Data(edge_index=[2, 1014], edge_attr=[1014, 1], num_nodes=515)}\n",
      "{'dim_in': 3, 'graph': Data(edge_index=[2, 474], edge_attr=[474, 1], num_nodes=515)}\n",
      "{'dim_in': 3, 'graph': Data(edge_index=[2, 264], edge_attr=[264, 1], num_nodes=515)}\n",
      "{'dim_in': 3, 'graph': Data(edge_index=[2, 1254], edge_attr=[1254, 1], num_nodes=515)}\n",
      "{'dim_in': 3, 'graph': Data(edge_index=[2, 1368], edge_attr=[1368, 1], num_nodes=515)}\n"
     ]
    }
   ],
   "source": [
    "for g in find_d_left_regular(graph['layer4.0.conv2']):\n",
    "    print(g)"
   ]
  },
  {
   "cell_type": "code",
   "execution_count": 12,
   "id": "ef853a09-79fd-48cb-9b0e-8453554a6c63",
   "metadata": {},
   "outputs": [
    {
     "ename": "NameError",
     "evalue": "name 'degrees' is not defined",
     "output_type": "error",
     "traceback": [
      "\u001b[0;31m---------------------------------------------------------------------------\u001b[0m",
      "\u001b[0;31mNameError\u001b[0m                                 Traceback (most recent call last)",
      "Input \u001b[0;32mIn [12]\u001b[0m, in \u001b[0;36m<cell line: 1>\u001b[0;34m()\u001b[0m\n\u001b[0;32m----> 1\u001b[0m \u001b[38;5;28mprint\u001b[39m(\u001b[43mdegrees\u001b[49m)\n",
      "\u001b[0;31mNameError\u001b[0m: name 'degrees' is not defined"
     ]
    }
   ],
   "source": [
    "print(degrees)"
   ]
  },
  {
   "cell_type": "code",
   "execution_count": null,
   "id": "f2fa0a5f-fc26-4667-995c-f9b0da28b691",
   "metadata": {},
   "outputs": [],
   "source": []
  }
 ],
 "metadata": {
  "kernelspec": {
   "display_name": "Python 3 (ipykernel)",
   "language": "python",
   "name": "python3"
  },
  "language_info": {
   "codemirror_mode": {
    "name": "ipython",
    "version": 3
   },
   "file_extension": ".py",
   "mimetype": "text/x-python",
   "name": "python",
   "nbconvert_exporter": "python",
   "pygments_lexer": "ipython3",
   "version": "3.8.13"
  }
 },
 "nbformat": 4,
 "nbformat_minor": 5
}
